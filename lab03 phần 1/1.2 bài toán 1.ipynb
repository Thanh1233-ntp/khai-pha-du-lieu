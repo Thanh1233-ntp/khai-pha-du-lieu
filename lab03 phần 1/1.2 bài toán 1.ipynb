{
 "cells": [
  {
   "cell_type": "markdown",
   "id": "5b4949a9",
   "metadata": {},
   "source": [
    "### 1. Import thư viện"
   ]
  },
  {
   "cell_type": "code",
   "execution_count": 1,
   "id": "f3d5225b",
   "metadata": {},
   "outputs": [],
   "source": [
    "import numpy as np\n",
    "import pandas as pd\n",
    "from scipy import stats\n",
    "import matplotlib.pyplot as plt\n",
    "import seaborn as sns"
   ]
  },
  {
   "cell_type": "markdown",
   "id": "67ccda7d",
   "metadata": {},
   "source": [
    "### 2. Đọc dữ liệu"
   ]
  },
  {
   "cell_type": "code",
   "execution_count": 3,
   "id": "56f494d8",
   "metadata": {},
   "outputs": [],
   "source": [
    "covid_data = pd.read_csv(\"covid-data.csv\")\n",
    "\n",
    "covid_data = covid_data[['iso_code','continent','location',\n",
    "                         'date','total_cases','new_cases']]"
   ]
  },
  {
   "cell_type": "markdown",
   "id": "f0d37dc1",
   "metadata": {},
   "source": [
    "### 3. Khám phá dữ liệu"
   ]
  },
  {
   "cell_type": "code",
   "execution_count": 4,
   "id": "8abb610e",
   "metadata": {},
   "outputs": [
    {
     "name": "stdout",
     "output_type": "stream",
     "text": [
      "5 dòng đầu của dữ liệu:\n",
      "  iso_code continent location       date  total_cases  new_cases\n",
      "0      FRA    Europe   France  3/14/2020         5134        345\n",
      "1      VNM      Asia  Vietnam  3/19/2020         2734        445\n",
      "2      IND      Asia    India  3/29/2020          202        183\n",
      "3      FRA    Europe   France  3/19/2020         5116         95\n",
      "4      FRA    Europe   France  3/17/2020          863        230 \n",
      "\n",
      "Thông tin dữ liệu:\n",
      "<class 'pandas.core.frame.DataFrame'>\n",
      "RangeIndex: 150 entries, 0 to 149\n",
      "Data columns (total 6 columns):\n",
      " #   Column       Non-Null Count  Dtype \n",
      "---  ------       --------------  ----- \n",
      " 0   iso_code     150 non-null    object\n",
      " 1   continent    150 non-null    object\n",
      " 2   location     150 non-null    object\n",
      " 3   date         150 non-null    object\n",
      " 4   total_cases  150 non-null    int64 \n",
      " 5   new_cases    150 non-null    int64 \n",
      "dtypes: int64(2), object(4)\n",
      "memory usage: 7.2+ KB\n",
      "None \n",
      "\n",
      "Kích thước dữ liệu: (150, 6) \n",
      "\n"
     ]
    }
   ],
   "source": [
    "print(\"5 dòng đầu của dữ liệu:\")\n",
    "print(covid_data.head(), \"\\n\")\n",
    "\n",
    "print(\"Thông tin dữ liệu:\")\n",
    "print(covid_data.info(), \"\\n\")\n",
    "\n",
    "print(\"Kích thước dữ liệu:\", covid_data.shape, \"\\n\")"
   ]
  },
  {
   "cell_type": "markdown",
   "id": "5a9a6482",
   "metadata": {},
   "source": [
    "#### **Nhận xét**\n",
    "+ Cấu trúc dữ liệu:\n",
    "\n",
    "    + Bộ dữ liệu có 150 quan sát (dòng) và 6 biến (cột).\n",
    "\n",
    "    + Các cột gồm:\n",
    "\n",
    "        iso_code: mã quốc gia theo ISO.\n",
    "\n",
    "        continent: tên châu lục.\n",
    "\n",
    "        location: tên quốc gia.\n",
    "\n",
    "        date: ngày ghi nhận số liệu.\n",
    "\n",
    "        total_cases: tổng số ca ghi nhận tính đến ngày đó.\n",
    "\n",
    "        new_cases: số ca mới trong ngày.\n",
    "\n",
    "+ Kiểu dữ liệu:\n",
    "\n",
    "    + iso_code, continent, location, date → object (chuỗi).\n",
    "\n",
    "    + total_cases, new_cases → int64 (số nguyên).\n",
    "\n",
    "    + Nhìn chung, dữ liệu không có giá trị thiếu (Non-Null Count = 150 ở tất cả các cột).\n",
    "\n",
    "+ Kích thước dữ liệu:\n",
    "\n",
    "    + 150 dòng × 6 cột.\n",
    "\n",
    "    + Dung lượng bộ dữ liệu nhỏ (7.2 KB), dễ dàng xử lý.\n",
    "\n",
    "+ Quan sát nhanh (5 dòng đầu tiên):\n",
    "\n",
    "    + Dữ liệu bao gồm nhiều quốc gia: France (FRA), Vietnam (VNM), India (IND)...\n",
    "\n",
    "    + Số ca mới (new_cases) dao động khá lớn, ví dụ:\n",
    "\n",
    "        France ngày 14/03/2020 có 345 ca mới.\n",
    "\n",
    "        Vietnam ngày 19/03/2020 có 445 ca mới.\n",
    "\n",
    "        India ngày 29/03/2020 chỉ có 183 ca mới.\n",
    "\n",
    "    + Điều này cho thấy sự khác biệt lớn giữa các quốc gia và giai đoạn thời gian."
   ]
  },
  {
   "cell_type": "markdown",
   "id": "6c2146dd",
   "metadata": {},
   "source": [
    "### 4. Kiểm tra dữ liệu thiếu"
   ]
  },
  {
   "cell_type": "code",
   "execution_count": 5,
   "id": "6391efc2",
   "metadata": {},
   "outputs": [
    {
     "name": "stdout",
     "output_type": "stream",
     "text": [
      "Số lượng giá trị thiếu ở mỗi cột:\n",
      "iso_code       0\n",
      "continent      0\n",
      "location       0\n",
      "date           0\n",
      "total_cases    0\n",
      "new_cases      0\n",
      "dtype: int64 \n",
      "\n"
     ]
    }
   ],
   "source": [
    "print(\"Số lượng giá trị thiếu ở mỗi cột:\")\n",
    "print(covid_data.isnull().sum(), \"\\n\")\n"
   ]
  },
  {
   "cell_type": "markdown",
   "id": "10f71bec",
   "metadata": {},
   "source": [
    "Dữ liệu không có giá trị thiếu ở bất kỳ cột nào"
   ]
  },
  {
   "cell_type": "markdown",
   "id": "40a43892",
   "metadata": {},
   "source": [
    "### 5. Thống kê mô tả cơ bản"
   ]
  },
  {
   "cell_type": "code",
   "execution_count": 7,
   "id": "0b51f26a",
   "metadata": {},
   "outputs": [
    {
     "name": "stdout",
     "output_type": "stream",
     "text": [
      "Thống kê mô tả:\n",
      "count    150.000000\n",
      "mean     256.906667\n",
      "std      140.713348\n",
      "min        1.000000\n",
      "25%      147.500000\n",
      "50%      244.500000\n",
      "75%      371.250000\n",
      "max      499.000000\n",
      "Name: new_cases, dtype: float64 \n",
      "\n",
      "Mean: 256.9066666666667\n",
      "Median: 244.5\n",
      "Mode: 112 (Xuất hiện 4 lần)\n",
      "Variance: 19668.24462222222\n",
      "Standard Deviation: 140.2435190025629\n",
      "Min: 1\n",
      "Max: 499\n",
      "Q1: 147.5\n",
      "Q3: 371.25\n",
      "IQR: 223.75\n",
      "\n"
     ]
    }
   ],
   "source": [
    "print(\"Thống kê mô tả:\")\n",
    "print(covid_data[\"new_cases\"].describe(), \"\\n\")\n",
    "\n",
    "# Các chỉ số thống kê riêng lẻ\n",
    "mean_val = np.mean(covid_data[\"new_cases\"])\n",
    "median_val = np.median(covid_data[\"new_cases\"])\n",
    "mode_val = stats.mode(covid_data[\"new_cases\"], nan_policy='omit')\n",
    "var_val = np.var(covid_data[\"new_cases\"])\n",
    "std_val = np.std(covid_data[\"new_cases\"])\n",
    "min_val = np.min(covid_data[\"new_cases\"])\n",
    "max_val = np.max(covid_data[\"new_cases\"])\n",
    "q1, q3 = np.percentile(covid_data[\"new_cases\"].dropna(), [25, 75])\n",
    "iqr_val = q3 - q1\n",
    "\n",
    "print(f\"Mean: {mean_val}\")\n",
    "print(f\"Median: {median_val}\")\n",
    "mode_val = stats.mode(covid_data[\"new_cases\"], keepdims=True)\n",
    "print(f\"Mode: {mode_val.mode[0]} (Xuất hiện {mode_val.count[0]} lần)\")\n",
    "\n",
    "print(f\"Variance: {var_val}\")\n",
    "print(f\"Standard Deviation: {std_val}\")\n",
    "print(f\"Min: {min_val}\")\n",
    "print(f\"Max: {max_val}\")\n",
    "print(f\"Q1: {q1}\")\n",
    "print(f\"Q3: {q3}\")\n",
    "print(f\"IQR: {iqr_val}\\n\")"
   ]
  },
  {
   "cell_type": "markdown",
   "id": "2116822c",
   "metadata": {},
   "source": [
    "+ Trung bình (Mean) ≈ 257, trung vị (Median) = 244.5 → dữ liệu khá cân đối, mean và median gần nhau.\n",
    "\n",
    "+ Giá trị thường gặp nhất (Mode) là 112, xuất hiện 4 lần.\n",
    "\n",
    "+ Phương sai và độ lệch chuẩn (Std ≈ 140) cho thấy dữ liệu có mức độ phân tán tương đối lớn quanh giá trị trung bình.\n",
    "\n",
    "+ Số ca mới dao động từ 1 đến 499, cho thấy khoảng biến thiên rộng.\n",
    "\n",
    "+ Tứ phân vị: Q1 = 147.5, Q3 = 371.25, IQR = 223.75 → có sự chênh lệch lớn giữa nhóm ca thấp và nhóm ca cao."
   ]
  },
  {
   "cell_type": "markdown",
   "id": "ccc2a5b5",
   "metadata": {},
   "source": [
    "### 6. Phát hiện ngoại lai theo IQR"
   ]
  },
  {
   "cell_type": "code",
   "execution_count": 8,
   "id": "a945ef2e",
   "metadata": {},
   "outputs": [
    {
     "name": "stdout",
     "output_type": "stream",
     "text": [
      "Số lượng giá trị ngoại lai (outliers): 0 \n",
      "\n"
     ]
    }
   ],
   "source": [
    "outliers = covid_data[(covid_data[\"new_cases\"] < q1 - 1.5*iqr_val) |\n",
    "                      (covid_data[\"new_cases\"] > q3 + 1.5*iqr_val)]\n",
    "print(\"Số lượng giá trị ngoại lai (outliers):\", outliers.shape[0], \"\\n\")"
   ]
  },
  {
   "cell_type": "markdown",
   "id": "e5603740",
   "metadata": {},
   "source": [
    "Không tìm thấy ngoại lai"
   ]
  },
  {
   "cell_type": "markdown",
   "id": "f2c9cfd5",
   "metadata": {},
   "source": [
    "Trực quan hóa dữ liệu"
   ]
  },
  {
   "cell_type": "code",
   "execution_count": 9,
   "id": "1d7c26aa",
   "metadata": {},
   "outputs": [
    {
     "data": {
      "image/png": "[encoded data removed]",
      "text/plain": [
       "<Figure size 640x480 with 1 Axes>"
      ]
     },
     "metadata": {},
     "output_type": "display_data"
    },
    {
     "data": {
      "image/png": "[encoded data removed]",
      "text/plain": [
       "<Figure size 640x480 with 1 Axes>"
      ]
     },
     "metadata": {},
     "output_type": "display_data"
    }
   ],
   "source": [
    "import matplotlib.pyplot as plt\n",
    "import seaborn as sns\n",
    "\n",
    "# Histogram\n",
    "plt.hist(covid_data[\"new_cases\"].dropna(), bins=50)\n",
    "plt.title(\"Histogram of New Cases\")\n",
    "plt.show()\n",
    "\n",
    "# Boxplot\n",
    "sns.boxplot(x=covid_data[\"new_cases\"])\n",
    "plt.title(\"Boxplot of New Cases\")\n",
    "plt.show()\n"
   ]
  }
 ],
 "metadata": {
  "kernelspec": {
   "display_name": "Python 3",
   "language": "python",
   "name": "python3"
  },
  "language_info": {
   "codemirror_mode": {
    "name": "ipython",
    "version": 3
   },
   "file_extension": ".py",
   "mimetype": "text/x-python",
   "name": "python",
   "nbconvert_exporter": "python",
   "pygments_lexer": "ipython3",
   "version": "3.13.7"
  }
 },
 "nbformat": 4,
 "nbformat_minor": 5
}
