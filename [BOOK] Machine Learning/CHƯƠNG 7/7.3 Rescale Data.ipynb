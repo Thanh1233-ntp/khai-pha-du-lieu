{
 "cells": [
  {
   "cell_type": "code",
   "execution_count": 10,
   "id": "4e8bb95d",
   "metadata": {},
   "outputs": [
    {
     "name": "stdout",
     "output_type": "stream",
     "text": [
      "[[  nan   nan   nan   nan   nan   nan   nan   nan]\n",
      " [0.353 0.744 0.59  0.354 0.    0.501 0.234 0.483]\n",
      " [0.059 0.427 0.541 0.293 0.    0.396 0.117 0.167]\n",
      " [0.471 0.92  0.525 0.    0.    0.347 0.254 0.183]\n",
      " [0.059 0.447 0.541 0.232 0.111 0.419 0.038 0.   ]]\n"
     ]
    }
   ],
   "source": [
    "import pandas as pd\n",
    "from numpy import set_printoptions\n",
    "from sklearn.preprocessing import MinMaxScaler\n",
    "\n",
    "# File và tên cột\n",
    "filename = 'pima-indians-diabetes.data.csv'\n",
    "names = ['preg', 'plas', 'pres', 'skin', 'test', 'mass', 'pedi', 'age', 'class']\n",
    "\n",
    "# ✅ Đọc dữ liệu đúng cách, xử lý ký tự '?', và ép tất cả về số\n",
    "data = pd.read_csv(filename, names=names, na_values='?')\n",
    "data = data.apply(pd.to_numeric, errors='coerce')\n",
    "\n",
    "# ✅ Tách phần input và output\n",
    "array = data.values\n",
    "X = array[:, 0:8]\n",
    "Y = array[:, 8]\n",
    "\n",
    "# ✅ Chuẩn hóa dữ liệu\n",
    "scaler = MinMaxScaler(feature_range=(0, 1))\n",
    "rescaledX = scaler.fit_transform(X)\n",
    "\n",
    "# ✅ In kết quả\n",
    "set_printoptions(precision=3)\n",
    "print(rescaledX[0:5, :])\n"
   ]
  }
 ],
 "metadata": {
  "kernelspec": {
   "display_name": "Python 3",
   "language": "python",
   "name": "python3"
  },
  "language_info": {
   "codemirror_mode": {
    "name": "ipython",
    "version": 3
   },
   "file_extension": ".py",
   "mimetype": "text/x-python",
   "name": "python",
   "nbconvert_exporter": "python",
   "pygments_lexer": "ipython3",
   "version": "3.13.7"
  }
 },
 "nbformat": 4,
 "nbformat_minor": 5
}
