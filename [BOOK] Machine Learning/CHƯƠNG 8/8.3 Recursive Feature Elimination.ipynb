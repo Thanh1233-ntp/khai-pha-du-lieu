{
 "cells": [
  {
   "cell_type": "code",
   "execution_count": 1,
   "id": "1a2286c8",
   "metadata": {},
   "outputs": [
    {
     "name": "stdout",
     "output_type": "stream",
     "text": [
      "Num Features: 3\n",
      "Selected Features: [ True False False False False  True  True False]\n",
      "Feature Ranking: [1 2 4 6 5 1 1 3]\n",
      "\n",
      "Selected Feature Names: ['preg', 'mass', 'pedi']\n"
     ]
    }
   ],
   "source": [
    "import pandas as pd\n",
    "from sklearn.feature_selection import RFE\n",
    "from sklearn.linear_model import LogisticRegression\n",
    "\n",
    "# Đọc và xử lý dữ liệu\n",
    "filename = 'pima-indians-diabetes.data.csv'\n",
    "names = ['preg', 'plas', 'pres', 'skin', 'test', 'mass', 'pedi', 'age', 'class']\n",
    "\n",
    "# Đọc file, chuyển '?' thành NaN, ép kiểu số\n",
    "data = pd.read_csv(filename, names=names, na_values='?')\n",
    "data = data.apply(pd.to_numeric, errors='coerce')\n",
    "\n",
    "# Thay NaN bằng giá trị trung bình\n",
    "data.fillna(data.mean(), inplace=True)\n",
    "\n",
    "# Tách X, Y\n",
    "array = data.values\n",
    "X = array[:, 0:8]\n",
    "Y = array[:, 8].astype(int)   # ép kiểu integer cho biến đích\n",
    "\n",
    "# Feature extraction bằng RFE (Recursive Feature Elimination)\n",
    "model = LogisticRegression(max_iter=1000)  # tăng max_iter để tránh cảnh báo hội tụ\n",
    "rfe = RFE(model, n_features_to_select=3)\n",
    "fit = rfe.fit(X, Y)\n",
    "\n",
    "# In kết quả\n",
    "print(\"Num Features:\", fit.n_features_)\n",
    "print(\"Selected Features:\", fit.support_)\n",
    "print(\"Feature Ranking:\", fit.ranking_)\n",
    "\n",
    "# In tên các cột được chọn\n",
    "selected_features = [names[i] for i in range(len(fit.support_)) if fit.support_[i]]\n",
    "print(\"\\nSelected Feature Names:\", selected_features)\n"
   ]
  }
 ],
 "metadata": {
  "kernelspec": {
   "display_name": "Python 3",
   "language": "python",
   "name": "python3"
  },
  "language_info": {
   "codemirror_mode": {
    "name": "ipython",
    "version": 3
   },
   "file_extension": ".py",
   "mimetype": "text/x-python",
   "name": "python",
   "nbconvert_exporter": "python",
   "pygments_lexer": "ipython3",
   "version": "3.13.7"
  }
 },
 "nbformat": 4,
 "nbformat_minor": 5
}
