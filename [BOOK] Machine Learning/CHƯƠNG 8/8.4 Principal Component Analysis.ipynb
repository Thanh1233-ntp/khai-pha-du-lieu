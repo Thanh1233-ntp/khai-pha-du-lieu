{
 "cells": [
  {
   "cell_type": "code",
   "execution_count": 1,
   "id": "4456fb21",
   "metadata": {},
   "outputs": [
    {
     "name": "stdout",
     "output_type": "stream",
     "text": [
      "Explained Variance Ratio: [0.88854663 0.06159078 0.02579012]\n",
      "\n",
      "PCA Components (3 thành phần chính):\n",
      "[[-2.02176587e-03  9.78115765e-02  1.60930503e-02  6.07566861e-02\n",
      "   9.93110844e-01  1.40108085e-02  5.37167919e-04 -3.56474430e-03]\n",
      " [ 2.26488861e-02  9.72210040e-01  1.41909330e-01 -5.78614699e-02\n",
      "  -9.46266913e-02  4.69729766e-02  8.16804621e-04  1.40168181e-01]\n",
      " [ 2.24649003e-02 -1.43428710e-01  9.22467192e-01  3.07013055e-01\n",
      "  -2.09773019e-02  1.32444542e-01  6.39983017e-04  1.25454310e-01]]\n"
     ]
    }
   ],
   "source": [
    "import pandas as pd\n",
    "from sklearn.decomposition import PCA\n",
    "\n",
    "# Đọc và làm sạch dữ liệu\n",
    "filename = 'pima-indians-diabetes.data.csv'\n",
    "names = ['preg', 'plas', 'pres', 'skin', 'test', 'mass', 'pedi', 'age', 'class']\n",
    "\n",
    "data = pd.read_csv(filename, names=names, na_values='?')\n",
    "data = data.apply(pd.to_numeric, errors='coerce')\n",
    "data.fillna(data.mean(), inplace=True)\n",
    "\n",
    "# Tách X, Y\n",
    "array = data.values\n",
    "X = array[:, 0:8]\n",
    "Y = array[:, 8]\n",
    "\n",
    "# Áp dụng PCA\n",
    "pca = PCA(n_components=3)\n",
    "fit = pca.fit(X)\n",
    "\n",
    "# Tóm tắt kết quả\n",
    "print(\"Explained Variance Ratio:\", fit.explained_variance_ratio_)\n",
    "print(\"\\nPCA Components (3 thành phần chính):\")\n",
    "print(fit.components_)\n"
   ]
  }
 ],
 "metadata": {
  "kernelspec": {
   "display_name": "Python 3",
   "language": "python",
   "name": "python3"
  },
  "language_info": {
   "codemirror_mode": {
    "name": "ipython",
    "version": 3
   },
   "file_extension": ".py",
   "mimetype": "text/x-python",
   "name": "python",
   "nbconvert_exporter": "python",
   "pygments_lexer": "ipython3",
   "version": "3.13.7"
  }
 },
 "nbformat": 4,
 "nbformat_minor": 5
}
