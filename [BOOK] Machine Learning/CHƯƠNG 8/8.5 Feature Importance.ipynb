{
 "cells": [
  {
   "cell_type": "code",
   "execution_count": 2,
   "id": "0a540847",
   "metadata": {},
   "outputs": [
    {
     "name": "stdout",
     "output_type": "stream",
     "text": [
      "Feature importances (tầm quan trọng của các biến):\n",
      "preg: 0.1105\n",
      "plas: 0.2403\n",
      "pres: 0.0970\n",
      "skin: 0.0798\n",
      "test: 0.0718\n",
      "mass: 0.1366\n",
      "pedi: 0.1211\n",
      "age: 0.1431\n"
     ]
    }
   ],
   "source": [
    "import pandas as pd\n",
    "from sklearn.ensemble import ExtraTreesClassifier\n",
    "\n",
    "# Đọc dữ liệu\n",
    "filename = 'pima-indians-diabetes.data.csv'\n",
    "names = ['preg', 'plas', 'pres', 'skin', 'test', 'mass', 'pedi', 'age', 'class']\n",
    "\n",
    "# Đọc và làm sạch dữ liệu\n",
    "data = pd.read_csv(filename, names=names, na_values='?')\n",
    "data = data.apply(pd.to_numeric, errors='coerce')\n",
    "data.fillna(data.mean(), inplace=True)\n",
    "\n",
    "# Đảm bảo cột class là số nguyên (0 hoặc 1)\n",
    "data['class'] = data['class'].round().astype(int)\n",
    "\n",
    "# Tách X, Y\n",
    "X = data.iloc[:, 0:8]\n",
    "Y = data.iloc[:, 8]\n",
    "\n",
    "# Huấn luyện mô hình Extra Trees\n",
    "model = ExtraTreesClassifier(random_state=42)\n",
    "model.fit(X, Y)\n",
    "\n",
    "# Hiển thị tầm quan trọng của từng đặc trưng\n",
    "print(\"Feature importances (tầm quan trọng của các biến):\")\n",
    "for name, score in zip(X.columns, model.feature_importances_):\n",
    "    print(f\"{name}: {score:.4f}\")\n"
   ]
  }
 ],
 "metadata": {
  "kernelspec": {
   "display_name": "Python 3",
   "language": "python",
   "name": "python3"
  },
  "language_info": {
   "codemirror_mode": {
    "name": "ipython",
    "version": 3
   },
   "file_extension": ".py",
   "mimetype": "text/x-python",
   "name": "python",
   "nbconvert_exporter": "python",
   "pygments_lexer": "ipython3",
   "version": "3.13.7"
  }
 },
 "nbformat": 4,
 "nbformat_minor": 5
}
