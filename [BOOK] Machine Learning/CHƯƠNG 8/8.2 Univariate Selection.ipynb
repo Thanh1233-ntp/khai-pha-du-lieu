{
 "cells": [
  {
   "cell_type": "code",
   "execution_count": 7,
   "id": "c260ae2e",
   "metadata": {},
   "outputs": [
    {
     "name": "stdout",
     "output_type": "stream",
     "text": [
      "\n",
      "Chi2 scores:\n",
      "[ 111.442 1410.904   17.593   53.071 2174.05   127.58     5.389  181.177]\n",
      "\n",
      "Top 4 selected features:\n",
      "[[120.895  79.799  31.993  33.241]\n",
      " [148.      0.     33.6    50.   ]\n",
      " [ 85.      0.     26.6    31.   ]\n",
      " [183.      0.     23.3    32.   ]\n",
      " [ 89.     94.     28.1    21.   ]]\n",
      "\n",
      "Selected feature names: ['plas', 'test', 'mass', 'age']\n"
     ]
    }
   ],
   "source": [
    "import pandas as pd\n",
    "from numpy import set_printoptions\n",
    "from sklearn.feature_selection import SelectKBest, chi2\n",
    "\n",
    "# Đọc và xử lý dữ liệu\n",
    "filename = 'pima-indians-diabetes.data.csv'\n",
    "names = ['preg', 'plas', 'pres', 'skin', 'test', 'mass', 'pedi', 'age', 'class']\n",
    "\n",
    "data = pd.read_csv(filename, names=names, na_values='?')\n",
    "data = data.apply(pd.to_numeric, errors='coerce')\n",
    "data.fillna(data.mean(), inplace=True)\n",
    "data = data.clip(lower=0)\n",
    "\n",
    "# Tách X và Y\n",
    "array = data.values\n",
    "X = array[:, 0:8]\n",
    "Y = array[:, 8].astype(int)   # 🔥 ép kiểu integer cho biến mục tiêu\n",
    "\n",
    "# Feature selection với Chi-square\n",
    "test = SelectKBest(score_func=chi2, k=4)\n",
    "fit = test.fit(X, Y)\n",
    "\n",
    "# Hiển thị kết quả\n",
    "set_printoptions(precision=3)\n",
    "print(\"\\nChi2 scores:\")\n",
    "print(fit.scores_)\n",
    "\n",
    "features = fit.transform(X)\n",
    "print(\"\\nTop 4 selected features:\")\n",
    "print(features[0:5, :])\n",
    "\n",
    "# Hiển thị tên cột được chọn\n",
    "mask = fit.get_support()\n",
    "selected_features = [col for col, flag in zip(names[:-1], mask) if flag]\n",
    "print(\"\\nSelected feature names:\", selected_features)\n"
   ]
  }
 ],
 "metadata": {
  "kernelspec": {
   "display_name": "Python 3",
   "language": "python",
   "name": "python3"
  },
  "language_info": {
   "codemirror_mode": {
    "name": "ipython",
    "version": 3
   },
   "file_extension": ".py",
   "mimetype": "text/x-python",
   "name": "python",
   "nbconvert_exporter": "python",
   "pygments_lexer": "ipython3",
   "version": "3.13.7"
  }
 },
 "nbformat": 4,
 "nbformat_minor": 5
}
