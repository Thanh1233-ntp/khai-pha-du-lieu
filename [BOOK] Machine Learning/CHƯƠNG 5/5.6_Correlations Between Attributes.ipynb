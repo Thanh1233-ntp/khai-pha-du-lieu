{
 "cells": [
  {
   "cell_type": "code",
   "execution_count": 4,
   "id": "366deddb",
   "metadata": {},
   "outputs": [
    {
     "name": "stdout",
     "output_type": "stream",
     "text": [
      "First 5 rows of the data:\n",
      "   preg   plas  pres  skin  test  mass   pedi   age  class\n",
      "0   NaN    NaN   NaN   NaN   NaN   NaN    NaN   NaN    NaN\n",
      "1   6.0  148.0  72.0  35.0   0.0  33.6  0.627  50.0    1.0\n",
      "2   1.0   85.0  66.0  29.0   0.0  26.6  0.351  31.0    0.0\n",
      "3   8.0  183.0  64.0   0.0   0.0  23.3  0.672  32.0    1.0\n",
      "4   1.0   89.0  66.0  23.0  94.0  28.1  0.167  21.0    0.0\n",
      "\n",
      "Data types of each column:\n",
      "preg     float64\n",
      "plas     float64\n",
      "pres     float64\n",
      "skin     float64\n",
      "test     float64\n",
      "mass     float64\n",
      "pedi     float64\n",
      "age      float64\n",
      "class    float64\n",
      "dtype: object\n",
      "        preg   plas   pres   skin   test   mass   pedi    age  class\n",
      "preg   1.000  0.129  0.141 -0.082 -0.074  0.018 -0.034  0.544  0.222\n",
      "plas   0.129  1.000  0.153  0.057  0.331  0.221  0.137  0.264  0.467\n",
      "pres   0.141  0.153  1.000  0.207  0.089  0.282  0.041  0.240  0.065\n",
      "skin  -0.082  0.057  0.207  1.000  0.437  0.393  0.184 -0.114  0.075\n",
      "test  -0.074  0.331  0.089  0.437  1.000  0.198  0.185 -0.042  0.131\n",
      "mass   0.018  0.221  0.282  0.393  0.198  1.000  0.141  0.036  0.293\n",
      "pedi  -0.034  0.137  0.041  0.184  0.185  0.141  1.000  0.034  0.174\n",
      "age    0.544  0.264  0.240 -0.114 -0.042  0.036  0.034  1.000  0.238\n",
      "class  0.222  0.467  0.065  0.075  0.131  0.293  0.174  0.238  1.000\n"
     ]
    }
   ],
   "source": [
    "import pandas as pd\n",
    "from pandas import read_csv\n",
    "from pandas import set_option\n",
    "\n",
    "filename = \"pima-indians-diabetes.data.csv\"\n",
    "names = ['preg', 'plas', 'pres', 'skin', 'test', 'mass', 'pedi', 'age', 'class']\n",
    "data = read_csv(filename, names=names)\n",
    "data = data.apply(pd.to_numeric, errors='coerce')\n",
    "# Debug: Print first few rows and data types\n",
    "print(\"First 5 rows of the data:\")\n",
    "print(data.head())\n",
    "print(\"\\nData types of each column:\")\n",
    "print(data.dtypes)\n",
    "\n",
    "set_option('display.width', 100)\n",
    "set_option('display.precision', 3)\n",
    "correlations = data.corr(method='pearson')\n",
    "print(correlations)"
   ]
  }
 ],
 "metadata": {
  "kernelspec": {
   "display_name": "Python 3",
   "language": "python",
   "name": "python3"
  },
  "language_info": {
   "codemirror_mode": {
    "name": "ipython",
    "version": 3
   },
   "file_extension": ".py",
   "mimetype": "text/x-python",
   "name": "python",
   "nbconvert_exporter": "python",
   "pygments_lexer": "ipython3",
   "version": "3.13.7"
  }
 },
 "nbformat": 4,
 "nbformat_minor": 5
}
