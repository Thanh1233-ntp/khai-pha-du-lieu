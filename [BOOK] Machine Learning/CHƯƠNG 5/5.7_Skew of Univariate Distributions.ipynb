{
 "cells": [
  {
   "cell_type": "code",
   "execution_count": 2,
   "id": "787996cb",
   "metadata": {},
   "outputs": [
    {
     "name": "stdout",
     "output_type": "stream",
     "text": [
      "Data types:\n",
      "preg     float64\n",
      "plas     float64\n",
      "pres     float64\n",
      "skin     float64\n",
      "test     float64\n",
      "mass     float64\n",
      "pedi     float64\n",
      "age      float64\n",
      "class    float64\n",
      "dtype: object\n",
      "\n",
      "Skewness of each column:\n",
      "preg     0.901674\n",
      "plas     0.173754\n",
      "pres    -1.843608\n",
      "skin     0.109372\n",
      "test     2.272251\n",
      "mass    -0.428982\n",
      "pedi     1.919911\n",
      "age      1.129597\n",
      "class    0.635017\n",
      "dtype: float64\n"
     ]
    }
   ],
   "source": [
    "import pandas as pd\n",
    "from pandas import read_csv, set_option\n",
    "\n",
    "filename = \"pima-indians-diabetes.data.csv\"\n",
    "names = ['preg', 'plas', 'pres', 'skin', 'test', 'mass', 'pedi', 'age', 'class']\n",
    "\n",
    "# Đọc dữ liệu, xử lý ký tự '?'\n",
    "data = read_csv(filename, names=names, na_values='?')\n",
    "\n",
    "# Ép tất cả cột sang dạng số (nếu được)\n",
    "data = data.apply(pd.to_numeric, errors='coerce')\n",
    "\n",
    "# In ra kiểm tra kiểu dữ liệu\n",
    "print(\"Data types:\")\n",
    "print(data.dtypes)\n",
    "\n",
    "# Tính skew\n",
    "skew = data.skew()\n",
    "print(\"\\nSkewness of each column:\")\n",
    "print(skew)\n"
   ]
  }
 ],
 "metadata": {
  "kernelspec": {
   "display_name": "Python 3",
   "language": "python",
   "name": "python3"
  },
  "language_info": {
   "codemirror_mode": {
    "name": "ipython",
    "version": 3
   },
   "file_extension": ".py",
   "mimetype": "text/x-python",
   "name": "python",
   "nbconvert_exporter": "python",
   "pygments_lexer": "ipython3",
   "version": "3.13.7"
  }
 },
 "nbformat": 4,
 "nbformat_minor": 5
}
