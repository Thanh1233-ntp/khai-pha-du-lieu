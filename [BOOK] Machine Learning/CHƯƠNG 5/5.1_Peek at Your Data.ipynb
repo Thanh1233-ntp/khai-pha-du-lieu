{
 "cells": [
  {
   "cell_type": "code",
   "execution_count": 1,
   "id": "d32fdcdc",
   "metadata": {},
   "outputs": [
    {
     "name": "stdout",
     "output_type": "stream",
     "text": [
      "    preg  plas  pres  skin  test  mass   pedi  age  class\n",
      "0   preg  plas  pres  skin  test  mass   pedi  age  class\n",
      "1      6   148    72    35     0  33.6  0.627   50      1\n",
      "2      1    85    66    29     0  26.6  0.351   31      0\n",
      "3      8   183    64     0     0  23.3  0.672   32      1\n",
      "4      1    89    66    23    94  28.1  0.167   21      0\n",
      "5      0   137    40    35   168  43.1  2.288   33      1\n",
      "6      5   116    74     0     0  25.6  0.201   30      0\n",
      "7      3    78    50    32    88    31  0.248   26      1\n",
      "8     10   115     0     0     0  35.3  0.134   29      0\n",
      "9      2   197    70    45   543  30.5  0.158   53      1\n",
      "10     8   125    96     0     0     0  0.232   54      1\n",
      "11     4   110    92     0     0  37.6  0.191   30      0\n",
      "12    10   168    74     0     0    38  0.537   34      1\n",
      "13    10   139    80     0     0  27.1  1.441   57      0\n",
      "14     1   189    60    23   846  30.1  0.398   59      1\n",
      "15     5   166    72    19   175  25.8  0.587   51      1\n",
      "16     7   100     0     0     0    30  0.484   32      1\n",
      "17     0   118    84    47   230  45.8  0.551   31      1\n",
      "18     7   107    74     0     0  29.6  0.254   31      1\n",
      "19     1   103    30    38    83  43.3  0.183   33      0\n"
     ]
    }
   ],
   "source": [
    "import pandas as pd\n",
    "\n",
    "# View first 20 rows\n",
    "from pandas import read_csv\n",
    "filename = \"pima-indians-diabetes.data.csv\"\n",
    "names = ['preg', 'plas', 'pres', 'skin', 'test', 'mass', 'pedi', 'age', 'class']\n",
    "data = read_csv(filename, names=names)\n",
    "peek = data.head(20)\n",
    "print(peek)"
   ]
  }
 ],
 "metadata": {
  "kernelspec": {
   "display_name": "Python 3",
   "language": "python",
   "name": "python3"
  },
  "language_info": {
   "codemirror_mode": {
    "name": "ipython",
    "version": 3
   },
   "file_extension": ".py",
   "mimetype": "text/x-python",
   "name": "python",
   "nbconvert_exporter": "python",
   "pygments_lexer": "ipython3",
   "version": "3.13.7"
  }
 },
 "nbformat": 4,
 "nbformat_minor": 5
}
