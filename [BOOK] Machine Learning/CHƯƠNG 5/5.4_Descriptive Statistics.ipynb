{
 "cells": [
  {
   "cell_type": "code",
   "execution_count": 2,
   "id": "7be45f78",
   "metadata": {},
   "outputs": [
    {
     "name": "stdout",
     "output_type": "stream",
     "text": [
      "       preg plas pres skin test mass   pedi  age class\n",
      "count   769  769  769  769  769  769    769  769   769\n",
      "unique   18  137   48   52  187  249    518   53     3\n",
      "top       1  100   70    0    0   32  0.258   22     0\n",
      "freq    135   17   57  227  374   13      6   72   500\n"
     ]
    }
   ],
   "source": [
    "import pandas as pd\n",
    "# Statistical Summary\n",
    "from pandas import read_csv\n",
    "from pandas import set_option\n",
    "filename = \"pima-indians-diabetes.data.csv\"\n",
    "names = ['preg', 'plas', 'pres', 'skin', 'test', 'mass', 'pedi', 'age', 'class']\n",
    "data = read_csv(filename, names=names)\n",
    "set_option('display.width', 100)\n",
    "set_option('display.precision', 3)\n",
    "description = data.describe()\n",
    "print(description)"
   ]
  }
 ],
 "metadata": {
  "kernelspec": {
   "display_name": "Python 3",
   "language": "python",
   "name": "python3"
  },
  "language_info": {
   "codemirror_mode": {
    "name": "ipython",
    "version": 3
   },
   "file_extension": ".py",
   "mimetype": "text/x-python",
   "name": "python",
   "nbconvert_exporter": "python",
   "pygments_lexer": "ipython3",
   "version": "3.13.7"
  }
 },
 "nbformat": 4,
 "nbformat_minor": 5
}
