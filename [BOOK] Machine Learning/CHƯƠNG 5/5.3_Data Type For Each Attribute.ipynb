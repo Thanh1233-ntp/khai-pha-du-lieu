{
 "cells": [
  {
   "cell_type": "code",
   "execution_count": 1,
   "id": "edfcc68d",
   "metadata": {},
   "outputs": [
    {
     "name": "stdout",
     "output_type": "stream",
     "text": [
      "preg     object\n",
      "plas     object\n",
      "pres     object\n",
      "skin     object\n",
      "test     object\n",
      "mass     object\n",
      "pedi     object\n",
      "age      object\n",
      "class    object\n",
      "dtype: object\n"
     ]
    }
   ],
   "source": [
    "import pandas as pd\n",
    "\n",
    "# Data Types for Each Attribute\n",
    "from pandas import read_csv\n",
    "filename = \"pima-indians-diabetes.data.csv\"\n",
    "names = ['preg', 'plas', 'pres', 'skin', 'test', 'mass', 'pedi', 'age', 'class']\n",
    "data = read_csv(filename, names=names)\n",
    "types = data.dtypes\n",
    "print(types)"
   ]
  }
 ],
 "metadata": {
  "kernelspec": {
   "display_name": "Python 3",
   "language": "python",
   "name": "python3"
  },
  "language_info": {
   "codemirror_mode": {
    "name": "ipython",
    "version": 3
   },
   "file_extension": ".py",
   "mimetype": "text/x-python",
   "name": "python",
   "nbconvert_exporter": "python",
   "pygments_lexer": "ipython3",
   "version": "3.13.7"
  }
 },
 "nbformat": 4,
 "nbformat_minor": 5
}
